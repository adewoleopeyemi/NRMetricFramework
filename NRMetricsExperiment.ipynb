{
  "nbformat": 4,
  "nbformat_minor": 0,
  "metadata": {
    "colab": {
      "name": "NRMetricsExperiment.ipynb",
      "provenance": [],
      "private_outputs": true,
      "mount_file_id": "1TUmqCHJNtjsT_mOEJnuz_L8vMrEL_KYw",
      "authorship_tag": "ABX9TyMuPuuvHj6NngXGJKtb5DdR",
      "include_colab_link": true
    },
    "kernelspec": {
      "name": "python3",
      "display_name": "Python 3"
    }
  },
  "cells": [
    {
      "cell_type": "markdown",
      "metadata": {
        "id": "view-in-github",
        "colab_type": "text"
      },
      "source": [
        "<a href=\"https://colab.research.google.com/github/adewoleopeyemi/NRMetricFramework/blob/master/NRMetricsExperiment.ipynb\" target=\"_parent\"><img src=\"https://colab.research.google.com/assets/colab-badge.svg\" alt=\"Open In Colab\"/></a>"
      ]
    },
    {
      "cell_type": "code",
      "metadata": {
        "id": "NqSFZ-ouxBQ4"
      },
      "source": [
        "!pip3 install git+https://github.com/umang-singhal/pydom.git"
      ],
      "execution_count": null,
      "outputs": []
    },
    {
      "cell_type": "code",
      "metadata": {
        "id": "u7KE2CPqxoho"
      },
      "source": [
        "from dom import DOM"
      ],
      "execution_count": null,
      "outputs": []
    },
    {
      "cell_type": "code",
      "metadata": {
        "id": "Iu-o03aSySvV"
      },
      "source": [
        "from PIL import Image\n",
        "img = Image.open(\"/content/drive/My Drive/blurry.jpg\")"
      ],
      "execution_count": null,
      "outputs": []
    },
    {
      "cell_type": "code",
      "metadata": {
        "id": "VuShls2ByfP2"
      },
      "source": [
        "img"
      ],
      "execution_count": null,
      "outputs": []
    },
    {
      "cell_type": "code",
      "metadata": {
        "id": "cgi5NpoAygGy"
      },
      "source": [
        "iqa = DOM()\n",
        "\n",
        "# using image path\n",
        "score = iqa.get_sharpness(\"/content/drive/My Drive/veryblurry.jpg\")\n",
        "print(\"Sharpness:\", score)"
      ],
      "execution_count": null,
      "outputs": []
    },
    {
      "cell_type": "code",
      "metadata": {
        "id": "z7_CJcX70EWA"
      },
      "source": [
        "import numpy as np\n",
        "img = np.array(img)"
      ],
      "execution_count": null,
      "outputs": []
    },
    {
      "cell_type": "code",
      "metadata": {
        "id": "GQt-TM8HyntQ"
      },
      "source": [
        "i = iqa.smoothenImage(img)"
      ],
      "execution_count": null,
      "outputs": []
    },
    {
      "cell_type": "code",
      "metadata": {
        "id": "gREmESHiz_s8"
      },
      "source": [
        "import numpy as np\n",
        "from skimage import io, img_as_float\n",
        "import imquality.brisque as brisque\n",
        "\n",
        "#img = img_as_float(io.imread('noisy_images/BSE.jpg', as_gray=True))\n",
        "\n",
        "#Now let us check BRISQUE scores for a bunch of blurred images.\n",
        "\n",
        "img0 = img_as_float(io.imread('/content/drive/My Drive/blurry.jpg'))\n",
        "\n",
        "score0 = brisque.score(img0)\n",
        "\n",
        "print(\"BRISQUE Score for 0 blur = \", score0)\n",
        "\n"
      ],
      "execution_count": null,
      "outputs": []
    },
    {
      "cell_type": "code",
      "metadata": {
        "id": "981WawQkutX6"
      },
      "source": [
        "import cv2\n",
        "import numpy as np\n",
        "from google.colab.patches import cv2_imshow\n",
        "img = cv2.imread(\"/content/drive/My Drive/blurry.jpg\")\n",
        "kernel= np.ones((3, 3), np.float32)/9\n",
        "filter = cv2.filter2D(img, -1, kernel)\n",
        "medianblur = cv2.medianBlur(img, 3)\n",
        "bliateral_filter = cv2.bilateralFilter(img, 6, 45, 45)\n",
        "cv2_imshow(img)\n",
        "cv2_imshow(filter)\n",
        "Gblurimg = cv2.GaussianBlur(img, (3, 3), 0)\n",
        "cv2_imshow(Gblurimg)\n",
        "cv2_imshow(bliateral_filter)"
      ],
      "execution_count": null,
      "outputs": []
    },
    {
      "cell_type": "code",
      "metadata": {
        "id": "F2RJiB496OuK"
      },
      "source": [
        "import cv2\n",
        "import numpy as np\n",
        "from matplotlib import pyplot as plt\n",
        "\n",
        "imgx = cv2.cvtColor(img, cv2.COLOR_BGR2RGB)\n",
        "canny = cv2.Canny(imgx, 100, 200)\n",
        "\n",
        "titles = ['image', 'canny']\n",
        "images = [imgx, canny]\n",
        "for i in range(2):\n",
        "    plt.subplot(1, 2, i+1), plt.imshow(images[i], 'gray')\n",
        "    plt.title(titles[i])\n",
        "    plt.xticks([]),plt.yticks([])\n",
        "\n",
        "plt.show()"
      ],
      "execution_count": null,
      "outputs": []
    },
    {
      "cell_type": "code",
      "metadata": {
        "id": "AapZL02IgH_D"
      },
      "source": [
        "cv2_imshow(imgx)"
      ],
      "execution_count": null,
      "outputs": []
    },
    {
      "cell_type": "code",
      "metadata": {
        "id": "m3u4QpA-GDAb"
      },
      "source": [
        "output1 = cv2.inpaint(bliateral_filter, canny, 5, cv2.INPAINT_TELEA)\n",
        "output2 = cv2.inpaint(bliateral_filter, canny, 5, cv2.INPAINT_NS)\n",
        "\n",
        "    \n",
        "    \n",
        "\n",
        "\n",
        "cv2_imshow(output2)\n",
        "cv2_imshow(img)\n"
      ],
      "execution_count": null,
      "outputs": []
    },
    {
      "cell_type": "code",
      "metadata": {
        "id": "MEV_XHAlJqCu"
      },
      "source": [
        "img = cv2.imread(\"/content/drive/My Drive/blurry.jpg\")"
      ],
      "execution_count": null,
      "outputs": []
    },
    {
      "cell_type": "code",
      "metadata": {
        "id": "R9_tLM1sJLMh"
      },
      "source": [
        "plt.imshow(img)"
      ],
      "execution_count": null,
      "outputs": []
    },
    {
      "cell_type": "code",
      "metadata": {
        "id": "Dh3lf01WH-X2"
      },
      "source": [
        "lap = cv2.Laplacian(img, cv2.CV_64F, ksize=3)\n",
        "lap = np.uint8(np.absolute(lap))\n",
        "sobelX = cv2.Sobel(img, cv2.CV_64F, 1, 0)\n",
        "sobelY = cv2.Sobel(img, cv2.CV_64F, 0, 1)\n",
        "edges = cv2.Canny(img,100,200)\n",
        "\n",
        "sobelX = np.uint8(np.absolute(sobelX))\n",
        "sobelY = np.uint8(np.absolute(sobelY))\n",
        "\n",
        "sobelCombined = cv2.bitwise_or(sobelX, sobelY)\n",
        "\n",
        "titles = ['image', 'Laplacian', 'sobelX', 'sobelY', 'sobelCombined', 'Canny']\n",
        "images = [img, lap, sobelX, sobelY, sobelCombined, edges]\n",
        "for i in range(6):\n",
        "    plt.subplot(2, 3, i+1), plt.imshow(images[i], 'gray')\n",
        "    plt.title(titles[i])\n",
        "    plt.xticks([]),plt.yticks([])\n",
        "\n",
        "plt.show()"
      ],
      "execution_count": null,
      "outputs": []
    },
    {
      "cell_type": "code",
      "metadata": {
        "id": "QeQTVhibxeUE"
      },
      "source": [
        "score0 = brisque.score(img)\n",
        "print(score0)"
      ],
      "execution_count": null,
      "outputs": []
    },
    {
      "cell_type": "code",
      "metadata": {
        "id": "2Lxb2ycIxq1V"
      },
      "source": [
        "score1 = brisque.score(Gblurimg)\n",
        "print(score1)"
      ],
      "execution_count": null,
      "outputs": []
    },
    {
      "cell_type": "code",
      "metadata": {
        "id": "suv7xKO7x3mp"
      },
      "source": [
        "score2 = brisque.score(bliateral_filter)\n",
        "print(score2)"
      ],
      "execution_count": null,
      "outputs": []
    },
    {
      "cell_type": "code",
      "metadata": {
        "id": "8SVU2aSFy8yr"
      },
      "source": [
        "score2 = brisque.score(medianblur)\n",
        "print(score2)"
      ],
      "execution_count": null,
      "outputs": []
    },
    {
      "cell_type": "code",
      "metadata": {
        "id": "bU8orQ49qzAL"
      },
      "source": [
        "import matplotlib.pyplot as plt\n",
        "plt.imshow(img0)"
      ],
      "execution_count": null,
      "outputs": []
    },
    {
      "cell_type": "code",
      "metadata": {
        "id": "9SOPxeGe7Ldi"
      },
      "source": [
        "pip install image-quality"
      ],
      "execution_count": null,
      "outputs": []
    },
    {
      "cell_type": "code",
      "metadata": {
        "id": "Kx1gCsQOBE8s"
      },
      "source": [
        ""
      ],
      "execution_count": null,
      "outputs": []
    }
  ]
}